{
 "cells": [
  {
   "cell_type": "code",
   "execution_count": 1,
   "metadata": {
    "collapsed": false
   },
   "outputs": [],
   "source": [
    "from math import sqrt\n",
    "import fiona  # pour lire les shapefile\n",
    "import pyproj\n",
    "import numpy as np\n",
    "import pandas as pd"
   ]
  },
  {
   "cell_type": "code",
   "execution_count": 2,
   "metadata": {
    "collapsed": false
   },
   "outputs": [
    {
     "name": "stderr",
     "output_type": "stream",
     "text": [
      "/home/savinien/anaconda3/envs/py35_1/lib/python3.5/site-packages/IPython/core/interactiveshell.py:2723: DtypeWarning: Columns (6) have mixed types. Specify dtype option on import or set low_memory=False.\n",
      "  interactivity=interactivity, compiler=compiler, result=result)\n"
     ]
    }
   ],
   "source": [
    "lambert=pyproj.Proj(\"+init=EPSG:3035\")\n",
    "geo_grid = pd.read_csv('data/geostat/GEOSTAT_grid_POP_1K_2011_V2_0_1.csv')"
   ]
  },
  {
   "cell_type": "code",
   "execution_count": 3,
   "metadata": {
    "collapsed": false
   },
   "outputs": [],
   "source": [
    "geo_grid2 = pd.read_csv('data/geostat/JRC-GHSL_AIT-grid-POP_1K_2011.csv')\n",
    "subframeLUX = geo_grid2[geo_grid2.CNTR_CODE == 'LU']\n",
    "geo_grid_merged = pd.concat([geo_grid, subframeLUX])"
   ]
  },
  {
   "cell_type": "code",
   "execution_count": 4,
   "metadata": {
    "collapsed": true
   },
   "outputs": [],
   "source": [
    "import tarfile"
   ]
  },
  {
   "cell_type": "code",
   "execution_count": 5,
   "metadata": {
    "collapsed": true
   },
   "outputs": [],
   "source": [
    "with tarfile.open(\"data/geostat/GEOSTATReferenceGrid/Grid_ETRS89_LAEA_1K-ref_GEOSTAT_POP_2011_V2_0_1.shp.tar.gz\") as tar:\n",
    "    tar.extractall(path=\"data/geostat/GEOSTATReferenceGrid/\")"
   ]
  },
  {
   "cell_type": "code",
   "execution_count": 6,
   "metadata": {
    "collapsed": true
   },
   "outputs": [],
   "source": [
    "with tarfile.open(\"data/geostat/GEOSTATReferenceGrid/Grid_ETRS89_LAEA_1K-ref_GEOSTAT_POP_2011_V2_0_1.dbf.tar.gz\") as tar:\n",
    "    tar.extractall(path=\"data/geostat/GEOSTATReferenceGrid/\")"
   ]
  },
  {
   "cell_type": "code",
   "execution_count": 7,
   "metadata": {
    "collapsed": false
   },
   "outputs": [],
   "source": [
    "x_laea = []\n",
    "y_laea = []\n",
    "grid_shape = []\n",
    "\n",
    "with fiona.open('data/geostat/GEOSTATReferenceGrid/Grid_ETRS89_LAEA_1K-ref_GEOSTAT_POP_2011_V2_0_1.shp') as shapeFile:\n",
    "    for i, point in enumerate(shapeFile):\n",
    "        x_laea.append(point['geometry']['coordinates'][0][0][0])\n",
    "        y_laea.append(point['geometry']['coordinates'][0][0][1])\n",
    "        grid_shape.append(str(point['properties']['GRD_ID']))"
   ]
  },
  {
   "cell_type": "code",
   "execution_count": 8,
   "metadata": {
    "collapsed": false
   },
   "outputs": [],
   "source": [
    "df_shapefiles = pd.DataFrame({'x':x_laea, 'y':y_laea, 'grid':grid_shape})"
   ]
  },
  {
   "cell_type": "code",
   "execution_count": 9,
   "metadata": {
    "collapsed": false
   },
   "outputs": [],
   "source": [
    "df_merged = (pd.merge(df_shapefiles, geo_grid_merged[['TOT_P','GRD_ID','CNTR_CODE']], how='left', left_on='grid', right_on='GRD_ID')\n",
    " .drop('GRD_ID', axis=1))"
   ]
  },
  {
   "cell_type": "code",
   "execution_count": 10,
   "metadata": {
    "collapsed": true
   },
   "outputs": [],
   "source": [
    "df_merged.to_csv('data/grids1km_pop_lambert.csv')"
   ]
  },
  {
   "cell_type": "code",
   "execution_count": 11,
   "metadata": {
    "collapsed": true
   },
   "outputs": [],
   "source": [
    "df_merged.to_pickle('data/grids1km_pop_lambert.pkl')"
   ]
  },
  {
   "cell_type": "code",
   "execution_count": 12,
   "metadata": {
    "collapsed": true
   },
   "outputs": [],
   "source": [
    "longitudes=[2.875,-0.69083,5.27083,6.21806,0.17028,4.79056,0.6528,4.75667,2.51667,7.563036,-1.88167,0.84528,2.135,3.51778,0.63528,1.21194,4.75528,1.58349,4.72249]\n",
    "latitudes=[47.50972,45.25611,45.79833,49.41583,47.2306,50.09,46.45667,44.63306,47.73306,47.903108,49.53639,44.10667,51.01444,48.51528,49.85778,49.97611,45.40444,47.723982,44.335698]\n",
    "nomsCentrales=['Belleville','Blayais','Bugey','Cattenom','Chinon-B','Chooz-B','Civaux','Cruas','Dampierre','Fessenheim','Flamanville','Golfech','Gravelines','Nogent','Paluel','Penly','Saint-Alban','St. Laurent','Tricastin']"
   ]
  },
  {
   "cell_type": "code",
   "execution_count": 13,
   "metadata": {
    "collapsed": false
   },
   "outputs": [],
   "source": [
    "df_centrales = pd.DataFrame({'longitudes':longitudes, 'latitudes':latitudes, 'nomsCentrales':nomsCentrales})"
   ]
  },
  {
   "cell_type": "code",
   "execution_count": 14,
   "metadata": {
    "collapsed": false
   },
   "outputs": [],
   "source": [
    "df_centrales[['x', 'y']] = df_centrales[['longitudes', 'latitudes']].apply(lambda row: list(lambert(row[0],row[1])), axis=1)"
   ]
  },
  {
   "cell_type": "code",
   "execution_count": 15,
   "metadata": {
    "collapsed": true
   },
   "outputs": [],
   "source": [
    "def return_pop(row, km):\n",
    "    mask = ((df_merged.x+500-row.x)**2\n",
    "            +(df_merged.y+500-row.y)**2).apply(sqrt)< (1000*km)\n",
    "    return df_merged[mask].TOT_P.sum()"
   ]
  },
  {
   "cell_type": "code",
   "execution_count": 16,
   "metadata": {
    "collapsed": true
   },
   "outputs": [],
   "source": [
    "def search_pop(df, distance):\n",
    "    df['pop_' + str(distance) + '_km'] = df_centrales.apply(return_pop, args=(distance,), axis=1)\n",
    "    return df"
   ]
  },
  {
   "cell_type": "code",
   "execution_count": 17,
   "metadata": {
    "collapsed": false
   },
   "outputs": [
    {
     "data": {
      "text/html": [
       "<div>\n",
       "<table border=\"1\" class=\"dataframe\">\n",
       "  <thead>\n",
       "    <tr style=\"text-align: right;\">\n",
       "      <th></th>\n",
       "      <th>latitudes</th>\n",
       "      <th>longitudes</th>\n",
       "      <th>nomsCentrales</th>\n",
       "      <th>x</th>\n",
       "      <th>y</th>\n",
       "      <th>pop_10_km</th>\n",
       "      <th>pop_20_km</th>\n",
       "      <th>pop_30_km</th>\n",
       "      <th>pop_100_km</th>\n",
       "    </tr>\n",
       "  </thead>\n",
       "  <tbody>\n",
       "    <tr>\n",
       "      <th>0</th>\n",
       "      <td>47.509720</td>\n",
       "      <td>2.875000</td>\n",
       "      <td>Belleville</td>\n",
       "      <td>3.784859e+06</td>\n",
       "      <td>2.736510e+06</td>\n",
       "      <td>12736.0</td>\n",
       "      <td>50815.0</td>\n",
       "      <td>97251.0</td>\n",
       "      <td>1738957.0</td>\n",
       "    </tr>\n",
       "    <tr>\n",
       "      <th>1</th>\n",
       "      <td>45.256110</td>\n",
       "      <td>-0.690830</td>\n",
       "      <td>Blayais</td>\n",
       "      <td>3.483758e+06</td>\n",
       "      <td>2.520596e+06</td>\n",
       "      <td>15581.0</td>\n",
       "      <td>67348.0</td>\n",
       "      <td>148757.0</td>\n",
       "      <td>2276468.0</td>\n",
       "    </tr>\n",
       "    <tr>\n",
       "      <th>2</th>\n",
       "      <td>45.798330</td>\n",
       "      <td>5.270830</td>\n",
       "      <td>Bugey</td>\n",
       "      <td>3.953121e+06</td>\n",
       "      <td>2.532309e+06</td>\n",
       "      <td>42646.0</td>\n",
       "      <td>189795.0</td>\n",
       "      <td>705931.0</td>\n",
       "      <td>6137194.0</td>\n",
       "    </tr>\n",
       "    <tr>\n",
       "      <th>3</th>\n",
       "      <td>49.415830</td>\n",
       "      <td>6.218060</td>\n",
       "      <td>Cattenom</td>\n",
       "      <td>4.046662e+06</td>\n",
       "      <td>2.929604e+06</td>\n",
       "      <td>92989.0</td>\n",
       "      <td>388704.0</td>\n",
       "      <td>813932.0</td>\n",
       "      <td>4426623.0</td>\n",
       "    </tr>\n",
       "    <tr>\n",
       "      <th>4</th>\n",
       "      <td>47.230600</td>\n",
       "      <td>0.170280</td>\n",
       "      <td>Chinon-B</td>\n",
       "      <td>3.578537e+06</td>\n",
       "      <td>2.729031e+06</td>\n",
       "      <td>29505.0</td>\n",
       "      <td>86334.0</td>\n",
       "      <td>171913.0</td>\n",
       "      <td>2719971.0</td>\n",
       "    </tr>\n",
       "    <tr>\n",
       "      <th>5</th>\n",
       "      <td>50.090000</td>\n",
       "      <td>4.790560</td>\n",
       "      <td>Chooz-B</td>\n",
       "      <td>3.948525e+06</td>\n",
       "      <td>3.010752e+06</td>\n",
       "      <td>22972.0</td>\n",
       "      <td>70071.0</td>\n",
       "      <td>182047.0</td>\n",
       "      <td>6590937.0</td>\n",
       "    </tr>\n",
       "    <tr>\n",
       "      <th>6</th>\n",
       "      <td>46.456670</td>\n",
       "      <td>0.652800</td>\n",
       "      <td>Civaux</td>\n",
       "      <td>3.604317e+06</td>\n",
       "      <td>2.638887e+06</td>\n",
       "      <td>11950.0</td>\n",
       "      <td>50061.0</td>\n",
       "      <td>206764.0</td>\n",
       "      <td>1798093.0</td>\n",
       "    </tr>\n",
       "    <tr>\n",
       "      <th>7</th>\n",
       "      <td>44.633060</td>\n",
       "      <td>4.756670</td>\n",
       "      <td>Cruas</td>\n",
       "      <td>3.904536e+06</td>\n",
       "      <td>2.405940e+06</td>\n",
       "      <td>52694.0</td>\n",
       "      <td>139678.0</td>\n",
       "      <td>261372.0</td>\n",
       "      <td>3195321.0</td>\n",
       "    </tr>\n",
       "    <tr>\n",
       "      <th>8</th>\n",
       "      <td>47.733060</td>\n",
       "      <td>2.516670</td>\n",
       "      <td>Dampierre</td>\n",
       "      <td>3.760433e+06</td>\n",
       "      <td>2.763887e+06</td>\n",
       "      <td>17727.0</td>\n",
       "      <td>61923.0</td>\n",
       "      <td>125007.0</td>\n",
       "      <td>2538767.0</td>\n",
       "    </tr>\n",
       "    <tr>\n",
       "      <th>9</th>\n",
       "      <td>47.903108</td>\n",
       "      <td>7.563036</td>\n",
       "      <td>Fessenheim</td>\n",
       "      <td>4.138736e+06</td>\n",
       "      <td>2.757394e+06</td>\n",
       "      <td>50346.0</td>\n",
       "      <td>241690.0</td>\n",
       "      <td>962487.0</td>\n",
       "      <td>7442318.0</td>\n",
       "    </tr>\n",
       "    <tr>\n",
       "      <th>10</th>\n",
       "      <td>49.536390</td>\n",
       "      <td>-1.881670</td>\n",
       "      <td>Flamanville</td>\n",
       "      <td>3.465120e+06</td>\n",
       "      <td>3.005365e+06</td>\n",
       "      <td>11900.0</td>\n",
       "      <td>58924.0</td>\n",
       "      <td>150973.0</td>\n",
       "      <td>530396.0</td>\n",
       "    </tr>\n",
       "    <tr>\n",
       "      <th>11</th>\n",
       "      <td>44.106670</td>\n",
       "      <td>0.845280</td>\n",
       "      <td>Golfech</td>\n",
       "      <td>3.588500e+06</td>\n",
       "      <td>2.377804e+06</td>\n",
       "      <td>18419.0</td>\n",
       "      <td>80524.0</td>\n",
       "      <td>189483.0</td>\n",
       "      <td>2358423.0</td>\n",
       "    </tr>\n",
       "    <tr>\n",
       "      <th>12</th>\n",
       "      <td>51.014440</td>\n",
       "      <td>2.135000</td>\n",
       "      <td>Gravelines</td>\n",
       "      <td>3.770284e+06</td>\n",
       "      <td>3.130005e+06</td>\n",
       "      <td>39517.0</td>\n",
       "      <td>252925.0</td>\n",
       "      <td>424200.0</td>\n",
       "      <td>5247974.0</td>\n",
       "    </tr>\n",
       "    <tr>\n",
       "      <th>13</th>\n",
       "      <td>48.515280</td>\n",
       "      <td>3.517780</td>\n",
       "      <td>Nogent</td>\n",
       "      <td>3.842616e+06</td>\n",
       "      <td>2.843466e+06</td>\n",
       "      <td>17079.0</td>\n",
       "      <td>69911.0</td>\n",
       "      <td>123696.0</td>\n",
       "      <td>9832986.0</td>\n",
       "    </tr>\n",
       "    <tr>\n",
       "      <th>14</th>\n",
       "      <td>49.857780</td>\n",
       "      <td>0.635280</td>\n",
       "      <td>Paluel</td>\n",
       "      <td>3.649622e+06</td>\n",
       "      <td>3.014598e+06</td>\n",
       "      <td>16388.0</td>\n",
       "      <td>45536.0</td>\n",
       "      <td>139890.0</td>\n",
       "      <td>2057556.0</td>\n",
       "    </tr>\n",
       "    <tr>\n",
       "      <th>15</th>\n",
       "      <td>49.976110</td>\n",
       "      <td>1.211940</td>\n",
       "      <td>Penly</td>\n",
       "      <td>3.692281e+06</td>\n",
       "      <td>3.022563e+06</td>\n",
       "      <td>24240.0</td>\n",
       "      <td>103360.0</td>\n",
       "      <td>169571.0</td>\n",
       "      <td>2562167.0</td>\n",
       "    </tr>\n",
       "    <tr>\n",
       "      <th>16</th>\n",
       "      <td>45.404440</td>\n",
       "      <td>4.755280</td>\n",
       "      <td>Saint-Alban</td>\n",
       "      <td>3.910147e+06</td>\n",
       "      <td>2.491363e+06</td>\n",
       "      <td>67341.0</td>\n",
       "      <td>264668.0</td>\n",
       "      <td>656938.0</td>\n",
       "      <td>5154819.0</td>\n",
       "    </tr>\n",
       "    <tr>\n",
       "      <th>17</th>\n",
       "      <td>47.723982</td>\n",
       "      <td>1.583490</td>\n",
       "      <td>St. Laurent</td>\n",
       "      <td>3.690745e+06</td>\n",
       "      <td>2.770401e+06</td>\n",
       "      <td>28952.0</td>\n",
       "      <td>71745.0</td>\n",
       "      <td>278588.0</td>\n",
       "      <td>2350184.0</td>\n",
       "    </tr>\n",
       "    <tr>\n",
       "      <th>18</th>\n",
       "      <td>44.335698</td>\n",
       "      <td>4.722490</td>\n",
       "      <td>Tricastin</td>\n",
       "      <td>3.899621e+06</td>\n",
       "      <td>2.373216e+06</td>\n",
       "      <td>57667.0</td>\n",
       "      <td>129654.0</td>\n",
       "      <td>307186.0</td>\n",
       "      <td>2695950.0</td>\n",
       "    </tr>\n",
       "  </tbody>\n",
       "</table>\n",
       "</div>"
      ],
      "text/plain": [
       "    latitudes  longitudes nomsCentrales             x             y  \\\n",
       "0   47.509720    2.875000    Belleville  3.784859e+06  2.736510e+06   \n",
       "1   45.256110   -0.690830       Blayais  3.483758e+06  2.520596e+06   \n",
       "2   45.798330    5.270830         Bugey  3.953121e+06  2.532309e+06   \n",
       "3   49.415830    6.218060      Cattenom  4.046662e+06  2.929604e+06   \n",
       "4   47.230600    0.170280      Chinon-B  3.578537e+06  2.729031e+06   \n",
       "5   50.090000    4.790560       Chooz-B  3.948525e+06  3.010752e+06   \n",
       "6   46.456670    0.652800        Civaux  3.604317e+06  2.638887e+06   \n",
       "7   44.633060    4.756670         Cruas  3.904536e+06  2.405940e+06   \n",
       "8   47.733060    2.516670     Dampierre  3.760433e+06  2.763887e+06   \n",
       "9   47.903108    7.563036    Fessenheim  4.138736e+06  2.757394e+06   \n",
       "10  49.536390   -1.881670   Flamanville  3.465120e+06  3.005365e+06   \n",
       "11  44.106670    0.845280       Golfech  3.588500e+06  2.377804e+06   \n",
       "12  51.014440    2.135000    Gravelines  3.770284e+06  3.130005e+06   \n",
       "13  48.515280    3.517780        Nogent  3.842616e+06  2.843466e+06   \n",
       "14  49.857780    0.635280        Paluel  3.649622e+06  3.014598e+06   \n",
       "15  49.976110    1.211940         Penly  3.692281e+06  3.022563e+06   \n",
       "16  45.404440    4.755280   Saint-Alban  3.910147e+06  2.491363e+06   \n",
       "17  47.723982    1.583490   St. Laurent  3.690745e+06  2.770401e+06   \n",
       "18  44.335698    4.722490     Tricastin  3.899621e+06  2.373216e+06   \n",
       "\n",
       "    pop_10_km  pop_20_km  pop_30_km  pop_100_km  \n",
       "0     12736.0    50815.0    97251.0   1738957.0  \n",
       "1     15581.0    67348.0   148757.0   2276468.0  \n",
       "2     42646.0   189795.0   705931.0   6137194.0  \n",
       "3     92989.0   388704.0   813932.0   4426623.0  \n",
       "4     29505.0    86334.0   171913.0   2719971.0  \n",
       "5     22972.0    70071.0   182047.0   6590937.0  \n",
       "6     11950.0    50061.0   206764.0   1798093.0  \n",
       "7     52694.0   139678.0   261372.0   3195321.0  \n",
       "8     17727.0    61923.0   125007.0   2538767.0  \n",
       "9     50346.0   241690.0   962487.0   7442318.0  \n",
       "10    11900.0    58924.0   150973.0    530396.0  \n",
       "11    18419.0    80524.0   189483.0   2358423.0  \n",
       "12    39517.0   252925.0   424200.0   5247974.0  \n",
       "13    17079.0    69911.0   123696.0   9832986.0  \n",
       "14    16388.0    45536.0   139890.0   2057556.0  \n",
       "15    24240.0   103360.0   169571.0   2562167.0  \n",
       "16    67341.0   264668.0   656938.0   5154819.0  \n",
       "17    28952.0    71745.0   278588.0   2350184.0  \n",
       "18    57667.0   129654.0   307186.0   2695950.0  "
      ]
     },
     "execution_count": 17,
     "metadata": {},
     "output_type": "execute_result"
    }
   ],
   "source": [
    "search_pop(df_centrales, 10)\n",
    "search_pop(df_centrales, 20)\n",
    "search_pop(df_centrales, 30)\n",
    "search_pop(df_centrales, 100)"
   ]
  },
  {
   "cell_type": "code",
   "execution_count": null,
   "metadata": {
    "collapsed": true
   },
   "outputs": [],
   "source": []
  }
 ],
 "metadata": {
  "kernelspec": {
   "display_name": "Python 3",
   "language": "python",
   "name": "python3"
  },
  "language_info": {
   "codemirror_mode": {
    "name": "ipython",
    "version": 3
   },
   "file_extension": ".py",
   "mimetype": "text/x-python",
   "name": "python",
   "nbconvert_exporter": "python",
   "pygments_lexer": "ipython3",
   "version": "3.5.1"
  }
 },
 "nbformat": 4,
 "nbformat_minor": 0
}
