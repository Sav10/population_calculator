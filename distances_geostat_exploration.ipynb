{
 "cells": [
  {
   "cell_type": "code",
   "execution_count": 1,
   "metadata": {
    "collapsed": false
   },
   "outputs": [],
   "source": [
    "from math import sqrt\n",
    "import fiona  # pour lire les shapefile\n",
    "import pyproj"
   ]
  },
  {
   "cell_type": "code",
   "execution_count": 5,
   "metadata": {
    "collapsed": true
   },
   "outputs": [],
   "source": [
    "import numpy as np\n",
    "import pandas as pd"
   ]
  },
  {
   "cell_type": "markdown",
   "metadata": {},
   "source": [
    "## Recherche des données de population des pays frontaliers"
   ]
  },
  {
   "cell_type": "markdown",
   "metadata": {},
   "source": [
    "### Import des données de populations de la plupart des pays d'Europe"
   ]
  },
  {
   "cell_type": "code",
   "execution_count": 6,
   "metadata": {
    "collapsed": false
   },
   "outputs": [
    {
     "name": "stderr",
     "output_type": "stream",
     "text": [
      "/home/savinien/anaconda3/envs/py35_1/lib/python3.5/site-packages/IPython/core/interactiveshell.py:2723: DtypeWarning: Columns (6) have mixed types. Specify dtype option on import or set low_memory=False.\n",
      "  interactivity=interactivity, compiler=compiler, result=result)\n"
     ]
    }
   ],
   "source": [
    "geo_grid = pd.read_csv('data/geostat/GEOSTAT_grid_POP_1K_2011_V2_0_1.csv')"
   ]
  },
  {
   "cell_type": "code",
   "execution_count": 7,
   "metadata": {
    "collapsed": false
   },
   "outputs": [
    {
     "data": {
      "text/plain": [
       "array(['DE', 'ES', 'CH', 'FR', 'IE', 'FI', 'MT', 'CZ', 'PL', 'LI', 'LT',\n",
       "       'UK', 'SE', 'BG', 'XK*', 'EL', 'AT', 'IT', 'BE', 'PT', 'SI', 'NO',\n",
       "       'LV', 'HR', 'SK', 'HU', 'NL', 'EE', 'RO', 'DK', 'AL'], dtype=object)"
      ]
     },
     "execution_count": 7,
     "metadata": {},
     "output_type": "execute_result"
    }
   ],
   "source": [
    "geo_grid[\"CNTR_CODE\"].unique()"
   ]
  },
  {
   "cell_type": "markdown",
   "metadata": {},
   "source": [
    "### Import des données des des pays restants ( seul le Luxembourg nous interesse ici)"
   ]
  },
  {
   "cell_type": "code",
   "execution_count": 8,
   "metadata": {
    "collapsed": false
   },
   "outputs": [],
   "source": [
    "geo_grid2 = pd.read_csv('data/geostat/JRC-GHSL_AIT-grid-POP_1K_2011.csv')"
   ]
  },
  {
   "cell_type": "code",
   "execution_count": 9,
   "metadata": {
    "collapsed": false
   },
   "outputs": [
    {
     "data": {
      "text/plain": [
       "array(['CY', 'LU', 'IM', 'MC', 'SM', 'AD', 'VA', 'BA', 'IS', 'ME', 'MK',\n",
       "       'RS'], dtype=object)"
      ]
     },
     "execution_count": 9,
     "metadata": {},
     "output_type": "execute_result"
    }
   ],
   "source": [
    "geo_grid2.CNTR_CODE.unique()"
   ]
  },
  {
   "cell_type": "code",
   "execution_count": 10,
   "metadata": {
    "collapsed": false
   },
   "outputs": [
    {
     "name": "stdout",
     "output_type": "stream",
     "text": [
      "<class 'pandas.core.frame.DataFrame'>\n",
      "RangeIndex: 2026602 entries, 0 to 2026601\n",
      "Data columns (total 7 columns):\n",
      "TOT_P           int64\n",
      "GRD_ID          object\n",
      "CNTR_CODE       object\n",
      "METHD_CL        object\n",
      "YEAR            int64\n",
      "DATA_SRC        object\n",
      "TOT_P_CON_DT    object\n",
      "dtypes: int64(2), object(5)\n",
      "memory usage: 108.2+ MB\n"
     ]
    }
   ],
   "source": [
    "geo_grid.info()"
   ]
  },
  {
   "cell_type": "markdown",
   "metadata": {},
   "source": [
    "#### Sélection du Luxembourg uniquement"
   ]
  },
  {
   "cell_type": "code",
   "execution_count": 11,
   "metadata": {
    "collapsed": true
   },
   "outputs": [],
   "source": [
    "subframeLUX = geo_grid2[geo_grid2.CNTR_CODE == 'LU']"
   ]
  },
  {
   "cell_type": "markdown",
   "metadata": {},
   "source": [
    "#### Concatenation avec le dataframe des principaux pays"
   ]
  },
  {
   "cell_type": "code",
   "execution_count": 12,
   "metadata": {
    "collapsed": false
   },
   "outputs": [],
   "source": [
    "geo_grid_merged = pd.concat([geo_grid, subframeLUX])"
   ]
  },
  {
   "cell_type": "code",
   "execution_count": 13,
   "metadata": {
    "collapsed": false
   },
   "outputs": [
    {
     "data": {
      "text/plain": [
       "(2028301, 7)"
      ]
     },
     "execution_count": 13,
     "metadata": {},
     "output_type": "execute_result"
    }
   ],
   "source": [
    "geo_grid_merged.shape"
   ]
  },
  {
   "cell_type": "markdown",
   "metadata": {
    "collapsed": true
   },
   "source": [
    "#### Decompression puis Import de données shapefile"
   ]
  },
  {
   "cell_type": "code",
   "execution_count": 31,
   "metadata": {
    "collapsed": true
   },
   "outputs": [],
   "source": [
    "import tarfile"
   ]
  },
  {
   "cell_type": "code",
   "execution_count": 32,
   "metadata": {
    "collapsed": true
   },
   "outputs": [],
   "source": [
    "with tarfile.open(\"data/geostat/GEOSTATReferenceGrid/Grid_ETRS89_LAEA_1K-ref_GEOSTAT_POP_2011_V2_0_1.shp.tar.gz\") as tar:\n",
    "    tar.extractall(path=\"data/geostat/GEOSTATReferenceGrid/\")"
   ]
  },
  {
   "cell_type": "code",
   "execution_count": 33,
   "metadata": {
    "collapsed": true
   },
   "outputs": [],
   "source": [
    "with tarfile.open(\"data/geostat/GEOSTATReferenceGrid/Grid_ETRS89_LAEA_1K-ref_GEOSTAT_POP_2011_V2_0_1.dbf.tar.gz\") as tar:\n",
    "    tar.extractall(path=\"data/geostat/GEOSTATReferenceGrid/\")"
   ]
  },
  {
   "cell_type": "code",
   "execution_count": 34,
   "metadata": {
    "collapsed": false
   },
   "outputs": [],
   "source": [
    "x_laea = []\n",
    "y_laea = []\n",
    "grid_shape = []\n",
    "\n",
    "with fiona.open('data/geostat/GEOSTATReferenceGrid/Grid_ETRS89_LAEA_1K-ref_GEOSTAT_POP_2011_V2_0_1.shp') as shapeFile:\n",
    "    for i, point in enumerate(shapeFile):\n",
    "        x_laea.append(point['geometry']['coordinates'][0][0][0])\n",
    "        y_laea.append(point['geometry']['coordinates'][0][0][1])\n",
    "        grid_shape.append(str(point['properties']['GRD_ID']))"
   ]
  },
  {
   "cell_type": "markdown",
   "metadata": {},
   "source": [
    "#### Création d'un dataframe à partir des x, y et id de grid des shapefiles"
   ]
  },
  {
   "cell_type": "code",
   "execution_count": 35,
   "metadata": {
    "collapsed": false
   },
   "outputs": [],
   "source": [
    "df_shapefiles = pd.DataFrame({'x':x_laea, 'y':y_laea, 'grid':grid_shape})"
   ]
  },
  {
   "cell_type": "code",
   "execution_count": 37,
   "metadata": {
    "collapsed": false
   },
   "outputs": [
    {
     "data": {
      "text/html": [
       "<div>\n",
       "<table border=\"1\" class=\"dataframe\">\n",
       "  <thead>\n",
       "    <tr style=\"text-align: right;\">\n",
       "      <th></th>\n",
       "      <th>grid</th>\n",
       "      <th>x</th>\n",
       "      <th>y</th>\n",
       "    </tr>\n",
       "  </thead>\n",
       "  <tbody>\n",
       "    <tr>\n",
       "      <th>0</th>\n",
       "      <td>1kmN1760E2636</td>\n",
       "      <td>2636000.0</td>\n",
       "      <td>1760000.0</td>\n",
       "    </tr>\n",
       "    <tr>\n",
       "      <th>1</th>\n",
       "      <td>1kmN1954E2636</td>\n",
       "      <td>2636000.0</td>\n",
       "      <td>1954000.0</td>\n",
       "    </tr>\n",
       "    <tr>\n",
       "      <th>2</th>\n",
       "      <td>1kmN1961E2636</td>\n",
       "      <td>2636000.0</td>\n",
       "      <td>1961000.0</td>\n",
       "    </tr>\n",
       "    <tr>\n",
       "      <th>3</th>\n",
       "      <td>1kmN1950E2637</td>\n",
       "      <td>2637000.0</td>\n",
       "      <td>1950000.0</td>\n",
       "    </tr>\n",
       "    <tr>\n",
       "      <th>4</th>\n",
       "      <td>1kmN1951E2637</td>\n",
       "      <td>2637000.0</td>\n",
       "      <td>1951000.0</td>\n",
       "    </tr>\n",
       "  </tbody>\n",
       "</table>\n",
       "</div>"
      ],
      "text/plain": [
       "            grid          x          y\n",
       "0  1kmN1760E2636  2636000.0  1760000.0\n",
       "1  1kmN1954E2636  2636000.0  1954000.0\n",
       "2  1kmN1961E2636  2636000.0  1961000.0\n",
       "3  1kmN1950E2637  2637000.0  1950000.0\n",
       "4  1kmN1951E2637  2637000.0  1951000.0"
      ]
     },
     "execution_count": 37,
     "metadata": {},
     "output_type": "execute_result"
    }
   ],
   "source": [
    "df_shapefiles.head()"
   ]
  },
  {
   "cell_type": "code",
   "execution_count": 38,
   "metadata": {
    "collapsed": true
   },
   "outputs": [],
   "source": [
    "lambert=pyproj.Proj(\"+init=EPSG:3035\")"
   ]
  },
  {
   "cell_type": "markdown",
   "metadata": {},
   "source": [
    "#### Création d'un dataframe pour les centrales (avec latitudes et longitudes)"
   ]
  },
  {
   "cell_type": "code",
   "execution_count": 39,
   "metadata": {
    "collapsed": true
   },
   "outputs": [],
   "source": [
    "longitudes=[2.875,-0.69083,5.27083,6.21806,0.17028,4.79056,0.6528,4.75667,2.51667,7.563036,-1.88167,0.84528,2.135,3.51778,0.63528,1.21194,4.75528,1.58349,4.72249]\n",
    "latitudes=[47.50972,45.25611,45.79833,49.41583,47.2306,50.09,46.45667,44.63306,47.73306,47.903108,49.53639,44.10667,51.01444,48.51528,49.85778,49.97611,45.40444,47.723982,44.335698]"
   ]
  },
  {
   "cell_type": "code",
   "execution_count": 49,
   "metadata": {
    "collapsed": false
   },
   "outputs": [],
   "source": [
    "df_centrales = (pd.DataFrame({'longitudes':longitudes, 'latitudes':latitudes}))"
   ]
  },
  {
   "cell_type": "code",
   "execution_count": 50,
   "metadata": {
    "collapsed": false
   },
   "outputs": [
    {
     "data": {
      "text/html": [
       "<div>\n",
       "<table border=\"1\" class=\"dataframe\">\n",
       "  <thead>\n",
       "    <tr style=\"text-align: right;\">\n",
       "      <th></th>\n",
       "      <th>latitudes</th>\n",
       "      <th>longitudes</th>\n",
       "    </tr>\n",
       "  </thead>\n",
       "  <tbody>\n",
       "    <tr>\n",
       "      <th>0</th>\n",
       "      <td>47.50972</td>\n",
       "      <td>2.87500</td>\n",
       "    </tr>\n",
       "    <tr>\n",
       "      <th>1</th>\n",
       "      <td>45.25611</td>\n",
       "      <td>-0.69083</td>\n",
       "    </tr>\n",
       "    <tr>\n",
       "      <th>2</th>\n",
       "      <td>45.79833</td>\n",
       "      <td>5.27083</td>\n",
       "    </tr>\n",
       "    <tr>\n",
       "      <th>3</th>\n",
       "      <td>49.41583</td>\n",
       "      <td>6.21806</td>\n",
       "    </tr>\n",
       "    <tr>\n",
       "      <th>4</th>\n",
       "      <td>47.23060</td>\n",
       "      <td>0.17028</td>\n",
       "    </tr>\n",
       "  </tbody>\n",
       "</table>\n",
       "</div>"
      ],
      "text/plain": [
       "   latitudes  longitudes\n",
       "0   47.50972     2.87500\n",
       "1   45.25611    -0.69083\n",
       "2   45.79833     5.27083\n",
       "3   49.41583     6.21806\n",
       "4   47.23060     0.17028"
      ]
     },
     "execution_count": 50,
     "metadata": {},
     "output_type": "execute_result"
    }
   ],
   "source": [
    "df_centrales.head()"
   ]
  },
  {
   "cell_type": "markdown",
   "metadata": {},
   "source": [
    "#### Conversion des latitudes et longitudes des centrales en x et y"
   ]
  },
  {
   "cell_type": "code",
   "execution_count": 51,
   "metadata": {
    "collapsed": false
   },
   "outputs": [],
   "source": [
    "df_centrales[['x', 'y']] = df_centrales[['longitudes', 'latitudes']].apply(lambda row: list(lambert(row[0],row[1])), axis=1)"
   ]
  },
  {
   "cell_type": "code",
   "execution_count": 52,
   "metadata": {
    "collapsed": false
   },
   "outputs": [
    {
     "data": {
      "text/html": [
       "<div>\n",
       "<table border=\"1\" class=\"dataframe\">\n",
       "  <thead>\n",
       "    <tr style=\"text-align: right;\">\n",
       "      <th></th>\n",
       "      <th>latitudes</th>\n",
       "      <th>longitudes</th>\n",
       "      <th>x</th>\n",
       "      <th>y</th>\n",
       "    </tr>\n",
       "  </thead>\n",
       "  <tbody>\n",
       "    <tr>\n",
       "      <th>0</th>\n",
       "      <td>47.50972</td>\n",
       "      <td>2.87500</td>\n",
       "      <td>3.784859e+06</td>\n",
       "      <td>2.736510e+06</td>\n",
       "    </tr>\n",
       "    <tr>\n",
       "      <th>1</th>\n",
       "      <td>45.25611</td>\n",
       "      <td>-0.69083</td>\n",
       "      <td>3.483758e+06</td>\n",
       "      <td>2.520596e+06</td>\n",
       "    </tr>\n",
       "    <tr>\n",
       "      <th>2</th>\n",
       "      <td>45.79833</td>\n",
       "      <td>5.27083</td>\n",
       "      <td>3.953121e+06</td>\n",
       "      <td>2.532309e+06</td>\n",
       "    </tr>\n",
       "    <tr>\n",
       "      <th>3</th>\n",
       "      <td>49.41583</td>\n",
       "      <td>6.21806</td>\n",
       "      <td>4.046662e+06</td>\n",
       "      <td>2.929604e+06</td>\n",
       "    </tr>\n",
       "    <tr>\n",
       "      <th>4</th>\n",
       "      <td>47.23060</td>\n",
       "      <td>0.17028</td>\n",
       "      <td>3.578537e+06</td>\n",
       "      <td>2.729031e+06</td>\n",
       "    </tr>\n",
       "  </tbody>\n",
       "</table>\n",
       "</div>"
      ],
      "text/plain": [
       "   latitudes  longitudes             x             y\n",
       "0   47.50972     2.87500  3.784859e+06  2.736510e+06\n",
       "1   45.25611    -0.69083  3.483758e+06  2.520596e+06\n",
       "2   45.79833     5.27083  3.953121e+06  2.532309e+06\n",
       "3   49.41583     6.21806  4.046662e+06  2.929604e+06\n",
       "4   47.23060     0.17028  3.578537e+06  2.729031e+06"
      ]
     },
     "execution_count": 52,
     "metadata": {},
     "output_type": "execute_result"
    }
   ],
   "source": [
    "df_centrales.head()"
   ]
  },
  {
   "cell_type": "code",
   "execution_count": 53,
   "metadata": {
    "collapsed": false
   },
   "outputs": [
    {
     "data": {
      "text/html": [
       "<div>\n",
       "<table border=\"1\" class=\"dataframe\">\n",
       "  <thead>\n",
       "    <tr style=\"text-align: right;\">\n",
       "      <th></th>\n",
       "      <th>grid</th>\n",
       "      <th>x</th>\n",
       "      <th>y</th>\n",
       "    </tr>\n",
       "  </thead>\n",
       "  <tbody>\n",
       "    <tr>\n",
       "      <th>0</th>\n",
       "      <td>1kmN1760E2636</td>\n",
       "      <td>2636000.0</td>\n",
       "      <td>1760000.0</td>\n",
       "    </tr>\n",
       "    <tr>\n",
       "      <th>1</th>\n",
       "      <td>1kmN1954E2636</td>\n",
       "      <td>2636000.0</td>\n",
       "      <td>1954000.0</td>\n",
       "    </tr>\n",
       "    <tr>\n",
       "      <th>2</th>\n",
       "      <td>1kmN1961E2636</td>\n",
       "      <td>2636000.0</td>\n",
       "      <td>1961000.0</td>\n",
       "    </tr>\n",
       "    <tr>\n",
       "      <th>3</th>\n",
       "      <td>1kmN1950E2637</td>\n",
       "      <td>2637000.0</td>\n",
       "      <td>1950000.0</td>\n",
       "    </tr>\n",
       "    <tr>\n",
       "      <th>4</th>\n",
       "      <td>1kmN1951E2637</td>\n",
       "      <td>2637000.0</td>\n",
       "      <td>1951000.0</td>\n",
       "    </tr>\n",
       "  </tbody>\n",
       "</table>\n",
       "</div>"
      ],
      "text/plain": [
       "            grid          x          y\n",
       "0  1kmN1760E2636  2636000.0  1760000.0\n",
       "1  1kmN1954E2636  2636000.0  1954000.0\n",
       "2  1kmN1961E2636  2636000.0  1961000.0\n",
       "3  1kmN1950E2637  2637000.0  1950000.0\n",
       "4  1kmN1951E2637  2637000.0  1951000.0"
      ]
     },
     "execution_count": 53,
     "metadata": {},
     "output_type": "execute_result"
    }
   ],
   "source": [
    "df_shapefiles.head()"
   ]
  },
  {
   "cell_type": "markdown",
   "metadata": {},
   "source": [
    "#### Fusion (merge) des dataframes shapefile et geogrid, sur la clé 'GRD_ID' ('grid')"
   ]
  },
  {
   "cell_type": "code",
   "execution_count": 47,
   "metadata": {
    "collapsed": false
   },
   "outputs": [],
   "source": [
    "df_merged = (pd.merge(df_shapefiles, geo_grid_merged[['TOT_P','GRD_ID','CNTR_CODE']], how='left', left_on='grid', right_on='GRD_ID')\n",
    " .drop('GRD_ID', axis=1))"
   ]
  },
  {
   "cell_type": "code",
   "execution_count": 48,
   "metadata": {
    "collapsed": false
   },
   "outputs": [
    {
     "data": {
      "text/html": [
       "<div>\n",
       "<table border=\"1\" class=\"dataframe\">\n",
       "  <thead>\n",
       "    <tr style=\"text-align: right;\">\n",
       "      <th></th>\n",
       "      <th>grid</th>\n",
       "      <th>x</th>\n",
       "      <th>y</th>\n",
       "      <th>TOT_P</th>\n",
       "      <th>CNTR_CODE</th>\n",
       "    </tr>\n",
       "  </thead>\n",
       "  <tbody>\n",
       "    <tr>\n",
       "      <th>0</th>\n",
       "      <td>1kmN1760E2636</td>\n",
       "      <td>2636000.0</td>\n",
       "      <td>1760000.0</td>\n",
       "      <td>12.0</td>\n",
       "      <td>PT</td>\n",
       "    </tr>\n",
       "    <tr>\n",
       "      <th>1</th>\n",
       "      <td>1kmN1954E2636</td>\n",
       "      <td>2636000.0</td>\n",
       "      <td>1954000.0</td>\n",
       "      <td>1.0</td>\n",
       "      <td>PT</td>\n",
       "    </tr>\n",
       "    <tr>\n",
       "      <th>2</th>\n",
       "      <td>1kmN1961E2636</td>\n",
       "      <td>2636000.0</td>\n",
       "      <td>1961000.0</td>\n",
       "      <td>6.0</td>\n",
       "      <td>PT</td>\n",
       "    </tr>\n",
       "    <tr>\n",
       "      <th>3</th>\n",
       "      <td>1kmN1950E2637</td>\n",
       "      <td>2637000.0</td>\n",
       "      <td>1950000.0</td>\n",
       "      <td>3.0</td>\n",
       "      <td>PT</td>\n",
       "    </tr>\n",
       "    <tr>\n",
       "      <th>4</th>\n",
       "      <td>1kmN1951E2637</td>\n",
       "      <td>2637000.0</td>\n",
       "      <td>1951000.0</td>\n",
       "      <td>110.0</td>\n",
       "      <td>PT</td>\n",
       "    </tr>\n",
       "  </tbody>\n",
       "</table>\n",
       "</div>"
      ],
      "text/plain": [
       "            grid          x          y  TOT_P CNTR_CODE\n",
       "0  1kmN1760E2636  2636000.0  1760000.0   12.0        PT\n",
       "1  1kmN1954E2636  2636000.0  1954000.0    1.0        PT\n",
       "2  1kmN1961E2636  2636000.0  1961000.0    6.0        PT\n",
       "3  1kmN1950E2637  2637000.0  1950000.0    3.0        PT\n",
       "4  1kmN1951E2637  2637000.0  1951000.0  110.0        PT"
      ]
     },
     "execution_count": 48,
     "metadata": {},
     "output_type": "execute_result"
    }
   ],
   "source": [
    "df_merged.head()"
   ]
  },
  {
   "cell_type": "markdown",
   "metadata": {},
   "source": [
    "** Fonction d'ajout d'un champ de calcul de population dans un dataframe\n",
    "à partir des colonnes x, y et d'une distance donnée**"
   ]
  },
  {
   "cell_type": "code",
   "execution_count": 54,
   "metadata": {
    "collapsed": true
   },
   "outputs": [],
   "source": [
    "def return_pop(row, km):\n",
    "    mask = ((df_merged.x+500-row.x)**2\n",
    "            +(df_merged.y+500-row.y)**2).apply(sqrt)< (1000*km)\n",
    "    return df_merged[mask].TOT_P.sum()"
   ]
  },
  {
   "cell_type": "code",
   "execution_count": 55,
   "metadata": {
    "collapsed": false
   },
   "outputs": [],
   "source": [
    "df_centrales['popCentrale_10'] = df_centrales.apply(return_pop, args=(10,), axis=1)"
   ]
  },
  {
   "cell_type": "code",
   "execution_count": 56,
   "metadata": {
    "collapsed": false
   },
   "outputs": [],
   "source": [
    "df_centrales['popCentrale_20'] = df_centrales.apply(return_pop, args=(20,), axis=1)\n",
    "df_centrales['popCentrale_30'] = df_centrales.apply(return_pop, args=(30,), axis=1)\n",
    "df_centrales['popCentrale_100'] = df_centrales.apply(return_pop, args=(100,), axis=1)"
   ]
  },
  {
   "cell_type": "code",
   "execution_count": 57,
   "metadata": {
    "collapsed": false
   },
   "outputs": [
    {
     "data": {
      "text/html": [
       "<div>\n",
       "<table border=\"1\" class=\"dataframe\">\n",
       "  <thead>\n",
       "    <tr style=\"text-align: right;\">\n",
       "      <th></th>\n",
       "      <th>latitudes</th>\n",
       "      <th>longitudes</th>\n",
       "      <th>x</th>\n",
       "      <th>y</th>\n",
       "      <th>popCentrale_10</th>\n",
       "      <th>popCentrale_20</th>\n",
       "      <th>popCentrale_30</th>\n",
       "      <th>popCentrale_100</th>\n",
       "    </tr>\n",
       "  </thead>\n",
       "  <tbody>\n",
       "    <tr>\n",
       "      <th>0</th>\n",
       "      <td>47.509720</td>\n",
       "      <td>2.875000</td>\n",
       "      <td>3.784859e+06</td>\n",
       "      <td>2.736510e+06</td>\n",
       "      <td>12736.0</td>\n",
       "      <td>50815.0</td>\n",
       "      <td>97251.0</td>\n",
       "      <td>1738957.0</td>\n",
       "    </tr>\n",
       "    <tr>\n",
       "      <th>1</th>\n",
       "      <td>45.256110</td>\n",
       "      <td>-0.690830</td>\n",
       "      <td>3.483758e+06</td>\n",
       "      <td>2.520596e+06</td>\n",
       "      <td>15581.0</td>\n",
       "      <td>67348.0</td>\n",
       "      <td>148757.0</td>\n",
       "      <td>2276468.0</td>\n",
       "    </tr>\n",
       "    <tr>\n",
       "      <th>2</th>\n",
       "      <td>45.798330</td>\n",
       "      <td>5.270830</td>\n",
       "      <td>3.953121e+06</td>\n",
       "      <td>2.532309e+06</td>\n",
       "      <td>42646.0</td>\n",
       "      <td>189795.0</td>\n",
       "      <td>705931.0</td>\n",
       "      <td>6137194.0</td>\n",
       "    </tr>\n",
       "    <tr>\n",
       "      <th>3</th>\n",
       "      <td>49.415830</td>\n",
       "      <td>6.218060</td>\n",
       "      <td>4.046662e+06</td>\n",
       "      <td>2.929604e+06</td>\n",
       "      <td>92989.0</td>\n",
       "      <td>388704.0</td>\n",
       "      <td>813932.0</td>\n",
       "      <td>4426623.0</td>\n",
       "    </tr>\n",
       "    <tr>\n",
       "      <th>4</th>\n",
       "      <td>47.230600</td>\n",
       "      <td>0.170280</td>\n",
       "      <td>3.578537e+06</td>\n",
       "      <td>2.729031e+06</td>\n",
       "      <td>29505.0</td>\n",
       "      <td>86334.0</td>\n",
       "      <td>171913.0</td>\n",
       "      <td>2719971.0</td>\n",
       "    </tr>\n",
       "    <tr>\n",
       "      <th>5</th>\n",
       "      <td>50.090000</td>\n",
       "      <td>4.790560</td>\n",
       "      <td>3.948525e+06</td>\n",
       "      <td>3.010752e+06</td>\n",
       "      <td>22972.0</td>\n",
       "      <td>70071.0</td>\n",
       "      <td>182047.0</td>\n",
       "      <td>6590937.0</td>\n",
       "    </tr>\n",
       "    <tr>\n",
       "      <th>6</th>\n",
       "      <td>46.456670</td>\n",
       "      <td>0.652800</td>\n",
       "      <td>3.604317e+06</td>\n",
       "      <td>2.638887e+06</td>\n",
       "      <td>11950.0</td>\n",
       "      <td>50061.0</td>\n",
       "      <td>206764.0</td>\n",
       "      <td>1798093.0</td>\n",
       "    </tr>\n",
       "    <tr>\n",
       "      <th>7</th>\n",
       "      <td>44.633060</td>\n",
       "      <td>4.756670</td>\n",
       "      <td>3.904536e+06</td>\n",
       "      <td>2.405940e+06</td>\n",
       "      <td>52694.0</td>\n",
       "      <td>139678.0</td>\n",
       "      <td>261372.0</td>\n",
       "      <td>3195321.0</td>\n",
       "    </tr>\n",
       "    <tr>\n",
       "      <th>8</th>\n",
       "      <td>47.733060</td>\n",
       "      <td>2.516670</td>\n",
       "      <td>3.760433e+06</td>\n",
       "      <td>2.763887e+06</td>\n",
       "      <td>17727.0</td>\n",
       "      <td>61923.0</td>\n",
       "      <td>125007.0</td>\n",
       "      <td>2538767.0</td>\n",
       "    </tr>\n",
       "    <tr>\n",
       "      <th>9</th>\n",
       "      <td>47.903108</td>\n",
       "      <td>7.563036</td>\n",
       "      <td>4.138736e+06</td>\n",
       "      <td>2.757394e+06</td>\n",
       "      <td>50346.0</td>\n",
       "      <td>241690.0</td>\n",
       "      <td>962487.0</td>\n",
       "      <td>7442318.0</td>\n",
       "    </tr>\n",
       "    <tr>\n",
       "      <th>10</th>\n",
       "      <td>49.536390</td>\n",
       "      <td>-1.881670</td>\n",
       "      <td>3.465120e+06</td>\n",
       "      <td>3.005365e+06</td>\n",
       "      <td>11900.0</td>\n",
       "      <td>58924.0</td>\n",
       "      <td>150973.0</td>\n",
       "      <td>530396.0</td>\n",
       "    </tr>\n",
       "    <tr>\n",
       "      <th>11</th>\n",
       "      <td>44.106670</td>\n",
       "      <td>0.845280</td>\n",
       "      <td>3.588500e+06</td>\n",
       "      <td>2.377804e+06</td>\n",
       "      <td>18419.0</td>\n",
       "      <td>80524.0</td>\n",
       "      <td>189483.0</td>\n",
       "      <td>2358423.0</td>\n",
       "    </tr>\n",
       "    <tr>\n",
       "      <th>12</th>\n",
       "      <td>51.014440</td>\n",
       "      <td>2.135000</td>\n",
       "      <td>3.770284e+06</td>\n",
       "      <td>3.130005e+06</td>\n",
       "      <td>39517.0</td>\n",
       "      <td>252925.0</td>\n",
       "      <td>424200.0</td>\n",
       "      <td>5247974.0</td>\n",
       "    </tr>\n",
       "    <tr>\n",
       "      <th>13</th>\n",
       "      <td>48.515280</td>\n",
       "      <td>3.517780</td>\n",
       "      <td>3.842616e+06</td>\n",
       "      <td>2.843466e+06</td>\n",
       "      <td>17079.0</td>\n",
       "      <td>69911.0</td>\n",
       "      <td>123696.0</td>\n",
       "      <td>9832986.0</td>\n",
       "    </tr>\n",
       "    <tr>\n",
       "      <th>14</th>\n",
       "      <td>49.857780</td>\n",
       "      <td>0.635280</td>\n",
       "      <td>3.649622e+06</td>\n",
       "      <td>3.014598e+06</td>\n",
       "      <td>16388.0</td>\n",
       "      <td>45536.0</td>\n",
       "      <td>139890.0</td>\n",
       "      <td>2057556.0</td>\n",
       "    </tr>\n",
       "    <tr>\n",
       "      <th>15</th>\n",
       "      <td>49.976110</td>\n",
       "      <td>1.211940</td>\n",
       "      <td>3.692281e+06</td>\n",
       "      <td>3.022563e+06</td>\n",
       "      <td>24240.0</td>\n",
       "      <td>103360.0</td>\n",
       "      <td>169571.0</td>\n",
       "      <td>2562167.0</td>\n",
       "    </tr>\n",
       "    <tr>\n",
       "      <th>16</th>\n",
       "      <td>45.404440</td>\n",
       "      <td>4.755280</td>\n",
       "      <td>3.910147e+06</td>\n",
       "      <td>2.491363e+06</td>\n",
       "      <td>67341.0</td>\n",
       "      <td>264668.0</td>\n",
       "      <td>656938.0</td>\n",
       "      <td>5154819.0</td>\n",
       "    </tr>\n",
       "    <tr>\n",
       "      <th>17</th>\n",
       "      <td>47.723982</td>\n",
       "      <td>1.583490</td>\n",
       "      <td>3.690745e+06</td>\n",
       "      <td>2.770401e+06</td>\n",
       "      <td>28952.0</td>\n",
       "      <td>71745.0</td>\n",
       "      <td>278588.0</td>\n",
       "      <td>2350184.0</td>\n",
       "    </tr>\n",
       "    <tr>\n",
       "      <th>18</th>\n",
       "      <td>44.335698</td>\n",
       "      <td>4.722490</td>\n",
       "      <td>3.899621e+06</td>\n",
       "      <td>2.373216e+06</td>\n",
       "      <td>57667.0</td>\n",
       "      <td>129654.0</td>\n",
       "      <td>307186.0</td>\n",
       "      <td>2695950.0</td>\n",
       "    </tr>\n",
       "  </tbody>\n",
       "</table>\n",
       "</div>"
      ],
      "text/plain": [
       "    latitudes  longitudes             x             y  popCentrale_10  \\\n",
       "0   47.509720    2.875000  3.784859e+06  2.736510e+06         12736.0   \n",
       "1   45.256110   -0.690830  3.483758e+06  2.520596e+06         15581.0   \n",
       "2   45.798330    5.270830  3.953121e+06  2.532309e+06         42646.0   \n",
       "3   49.415830    6.218060  4.046662e+06  2.929604e+06         92989.0   \n",
       "4   47.230600    0.170280  3.578537e+06  2.729031e+06         29505.0   \n",
       "5   50.090000    4.790560  3.948525e+06  3.010752e+06         22972.0   \n",
       "6   46.456670    0.652800  3.604317e+06  2.638887e+06         11950.0   \n",
       "7   44.633060    4.756670  3.904536e+06  2.405940e+06         52694.0   \n",
       "8   47.733060    2.516670  3.760433e+06  2.763887e+06         17727.0   \n",
       "9   47.903108    7.563036  4.138736e+06  2.757394e+06         50346.0   \n",
       "10  49.536390   -1.881670  3.465120e+06  3.005365e+06         11900.0   \n",
       "11  44.106670    0.845280  3.588500e+06  2.377804e+06         18419.0   \n",
       "12  51.014440    2.135000  3.770284e+06  3.130005e+06         39517.0   \n",
       "13  48.515280    3.517780  3.842616e+06  2.843466e+06         17079.0   \n",
       "14  49.857780    0.635280  3.649622e+06  3.014598e+06         16388.0   \n",
       "15  49.976110    1.211940  3.692281e+06  3.022563e+06         24240.0   \n",
       "16  45.404440    4.755280  3.910147e+06  2.491363e+06         67341.0   \n",
       "17  47.723982    1.583490  3.690745e+06  2.770401e+06         28952.0   \n",
       "18  44.335698    4.722490  3.899621e+06  2.373216e+06         57667.0   \n",
       "\n",
       "    popCentrale_20  popCentrale_30  popCentrale_100  \n",
       "0          50815.0         97251.0        1738957.0  \n",
       "1          67348.0        148757.0        2276468.0  \n",
       "2         189795.0        705931.0        6137194.0  \n",
       "3         388704.0        813932.0        4426623.0  \n",
       "4          86334.0        171913.0        2719971.0  \n",
       "5          70071.0        182047.0        6590937.0  \n",
       "6          50061.0        206764.0        1798093.0  \n",
       "7         139678.0        261372.0        3195321.0  \n",
       "8          61923.0        125007.0        2538767.0  \n",
       "9         241690.0        962487.0        7442318.0  \n",
       "10         58924.0        150973.0         530396.0  \n",
       "11         80524.0        189483.0        2358423.0  \n",
       "12        252925.0        424200.0        5247974.0  \n",
       "13         69911.0        123696.0        9832986.0  \n",
       "14         45536.0        139890.0        2057556.0  \n",
       "15        103360.0        169571.0        2562167.0  \n",
       "16        264668.0        656938.0        5154819.0  \n",
       "17         71745.0        278588.0        2350184.0  \n",
       "18        129654.0        307186.0        2695950.0  "
      ]
     },
     "execution_count": 57,
     "metadata": {},
     "output_type": "execute_result"
    }
   ],
   "source": [
    "df_centrales"
   ]
  },
  {
   "cell_type": "code",
   "execution_count": 58,
   "metadata": {
    "collapsed": true
   },
   "outputs": [],
   "source": [
    "nomsCentrales=['Belleville','Blayais','Bugey','Cattenom','Chinon-B','Chooz-B','Civaux','Cruas','Dampierre','Fessenheim','Flamanville','Golfech','Gravelines','Nogent','Paluel','Penly','Saint-Alban','St. Laurent','Tricastin']"
   ]
  },
  {
   "cell_type": "code",
   "execution_count": 59,
   "metadata": {
    "collapsed": true
   },
   "outputs": [],
   "source": [
    "df_centrales['nom'] = nomsCentrales"
   ]
  },
  {
   "cell_type": "code",
   "execution_count": 60,
   "metadata": {
    "collapsed": false
   },
   "outputs": [
    {
     "data": {
      "text/html": [
       "<div>\n",
       "<table border=\"1\" class=\"dataframe\">\n",
       "  <thead>\n",
       "    <tr style=\"text-align: right;\">\n",
       "      <th></th>\n",
       "      <th>latitudes</th>\n",
       "      <th>longitudes</th>\n",
       "      <th>x</th>\n",
       "      <th>y</th>\n",
       "      <th>popCentrale_10</th>\n",
       "      <th>popCentrale_20</th>\n",
       "      <th>popCentrale_30</th>\n",
       "      <th>popCentrale_100</th>\n",
       "      <th>nom</th>\n",
       "    </tr>\n",
       "  </thead>\n",
       "  <tbody>\n",
       "    <tr>\n",
       "      <th>3</th>\n",
       "      <td>49.415830</td>\n",
       "      <td>6.218060</td>\n",
       "      <td>4.046662e+06</td>\n",
       "      <td>2.929604e+06</td>\n",
       "      <td>92989.0</td>\n",
       "      <td>388704.0</td>\n",
       "      <td>813932.0</td>\n",
       "      <td>4426623.0</td>\n",
       "      <td>Cattenom</td>\n",
       "    </tr>\n",
       "    <tr>\n",
       "      <th>16</th>\n",
       "      <td>45.404440</td>\n",
       "      <td>4.755280</td>\n",
       "      <td>3.910147e+06</td>\n",
       "      <td>2.491363e+06</td>\n",
       "      <td>67341.0</td>\n",
       "      <td>264668.0</td>\n",
       "      <td>656938.0</td>\n",
       "      <td>5154819.0</td>\n",
       "      <td>Saint-Alban</td>\n",
       "    </tr>\n",
       "    <tr>\n",
       "      <th>12</th>\n",
       "      <td>51.014440</td>\n",
       "      <td>2.135000</td>\n",
       "      <td>3.770284e+06</td>\n",
       "      <td>3.130005e+06</td>\n",
       "      <td>39517.0</td>\n",
       "      <td>252925.0</td>\n",
       "      <td>424200.0</td>\n",
       "      <td>5247974.0</td>\n",
       "      <td>Gravelines</td>\n",
       "    </tr>\n",
       "    <tr>\n",
       "      <th>9</th>\n",
       "      <td>47.903108</td>\n",
       "      <td>7.563036</td>\n",
       "      <td>4.138736e+06</td>\n",
       "      <td>2.757394e+06</td>\n",
       "      <td>50346.0</td>\n",
       "      <td>241690.0</td>\n",
       "      <td>962487.0</td>\n",
       "      <td>7442318.0</td>\n",
       "      <td>Fessenheim</td>\n",
       "    </tr>\n",
       "    <tr>\n",
       "      <th>2</th>\n",
       "      <td>45.798330</td>\n",
       "      <td>5.270830</td>\n",
       "      <td>3.953121e+06</td>\n",
       "      <td>2.532309e+06</td>\n",
       "      <td>42646.0</td>\n",
       "      <td>189795.0</td>\n",
       "      <td>705931.0</td>\n",
       "      <td>6137194.0</td>\n",
       "      <td>Bugey</td>\n",
       "    </tr>\n",
       "    <tr>\n",
       "      <th>7</th>\n",
       "      <td>44.633060</td>\n",
       "      <td>4.756670</td>\n",
       "      <td>3.904536e+06</td>\n",
       "      <td>2.405940e+06</td>\n",
       "      <td>52694.0</td>\n",
       "      <td>139678.0</td>\n",
       "      <td>261372.0</td>\n",
       "      <td>3195321.0</td>\n",
       "      <td>Cruas</td>\n",
       "    </tr>\n",
       "    <tr>\n",
       "      <th>18</th>\n",
       "      <td>44.335698</td>\n",
       "      <td>4.722490</td>\n",
       "      <td>3.899621e+06</td>\n",
       "      <td>2.373216e+06</td>\n",
       "      <td>57667.0</td>\n",
       "      <td>129654.0</td>\n",
       "      <td>307186.0</td>\n",
       "      <td>2695950.0</td>\n",
       "      <td>Tricastin</td>\n",
       "    </tr>\n",
       "    <tr>\n",
       "      <th>15</th>\n",
       "      <td>49.976110</td>\n",
       "      <td>1.211940</td>\n",
       "      <td>3.692281e+06</td>\n",
       "      <td>3.022563e+06</td>\n",
       "      <td>24240.0</td>\n",
       "      <td>103360.0</td>\n",
       "      <td>169571.0</td>\n",
       "      <td>2562167.0</td>\n",
       "      <td>Penly</td>\n",
       "    </tr>\n",
       "    <tr>\n",
       "      <th>4</th>\n",
       "      <td>47.230600</td>\n",
       "      <td>0.170280</td>\n",
       "      <td>3.578537e+06</td>\n",
       "      <td>2.729031e+06</td>\n",
       "      <td>29505.0</td>\n",
       "      <td>86334.0</td>\n",
       "      <td>171913.0</td>\n",
       "      <td>2719971.0</td>\n",
       "      <td>Chinon-B</td>\n",
       "    </tr>\n",
       "    <tr>\n",
       "      <th>11</th>\n",
       "      <td>44.106670</td>\n",
       "      <td>0.845280</td>\n",
       "      <td>3.588500e+06</td>\n",
       "      <td>2.377804e+06</td>\n",
       "      <td>18419.0</td>\n",
       "      <td>80524.0</td>\n",
       "      <td>189483.0</td>\n",
       "      <td>2358423.0</td>\n",
       "      <td>Golfech</td>\n",
       "    </tr>\n",
       "    <tr>\n",
       "      <th>17</th>\n",
       "      <td>47.723982</td>\n",
       "      <td>1.583490</td>\n",
       "      <td>3.690745e+06</td>\n",
       "      <td>2.770401e+06</td>\n",
       "      <td>28952.0</td>\n",
       "      <td>71745.0</td>\n",
       "      <td>278588.0</td>\n",
       "      <td>2350184.0</td>\n",
       "      <td>St. Laurent</td>\n",
       "    </tr>\n",
       "    <tr>\n",
       "      <th>5</th>\n",
       "      <td>50.090000</td>\n",
       "      <td>4.790560</td>\n",
       "      <td>3.948525e+06</td>\n",
       "      <td>3.010752e+06</td>\n",
       "      <td>22972.0</td>\n",
       "      <td>70071.0</td>\n",
       "      <td>182047.0</td>\n",
       "      <td>6590937.0</td>\n",
       "      <td>Chooz-B</td>\n",
       "    </tr>\n",
       "    <tr>\n",
       "      <th>13</th>\n",
       "      <td>48.515280</td>\n",
       "      <td>3.517780</td>\n",
       "      <td>3.842616e+06</td>\n",
       "      <td>2.843466e+06</td>\n",
       "      <td>17079.0</td>\n",
       "      <td>69911.0</td>\n",
       "      <td>123696.0</td>\n",
       "      <td>9832986.0</td>\n",
       "      <td>Nogent</td>\n",
       "    </tr>\n",
       "    <tr>\n",
       "      <th>1</th>\n",
       "      <td>45.256110</td>\n",
       "      <td>-0.690830</td>\n",
       "      <td>3.483758e+06</td>\n",
       "      <td>2.520596e+06</td>\n",
       "      <td>15581.0</td>\n",
       "      <td>67348.0</td>\n",
       "      <td>148757.0</td>\n",
       "      <td>2276468.0</td>\n",
       "      <td>Blayais</td>\n",
       "    </tr>\n",
       "    <tr>\n",
       "      <th>8</th>\n",
       "      <td>47.733060</td>\n",
       "      <td>2.516670</td>\n",
       "      <td>3.760433e+06</td>\n",
       "      <td>2.763887e+06</td>\n",
       "      <td>17727.0</td>\n",
       "      <td>61923.0</td>\n",
       "      <td>125007.0</td>\n",
       "      <td>2538767.0</td>\n",
       "      <td>Dampierre</td>\n",
       "    </tr>\n",
       "    <tr>\n",
       "      <th>10</th>\n",
       "      <td>49.536390</td>\n",
       "      <td>-1.881670</td>\n",
       "      <td>3.465120e+06</td>\n",
       "      <td>3.005365e+06</td>\n",
       "      <td>11900.0</td>\n",
       "      <td>58924.0</td>\n",
       "      <td>150973.0</td>\n",
       "      <td>530396.0</td>\n",
       "      <td>Flamanville</td>\n",
       "    </tr>\n",
       "    <tr>\n",
       "      <th>0</th>\n",
       "      <td>47.509720</td>\n",
       "      <td>2.875000</td>\n",
       "      <td>3.784859e+06</td>\n",
       "      <td>2.736510e+06</td>\n",
       "      <td>12736.0</td>\n",
       "      <td>50815.0</td>\n",
       "      <td>97251.0</td>\n",
       "      <td>1738957.0</td>\n",
       "      <td>Belleville</td>\n",
       "    </tr>\n",
       "    <tr>\n",
       "      <th>6</th>\n",
       "      <td>46.456670</td>\n",
       "      <td>0.652800</td>\n",
       "      <td>3.604317e+06</td>\n",
       "      <td>2.638887e+06</td>\n",
       "      <td>11950.0</td>\n",
       "      <td>50061.0</td>\n",
       "      <td>206764.0</td>\n",
       "      <td>1798093.0</td>\n",
       "      <td>Civaux</td>\n",
       "    </tr>\n",
       "    <tr>\n",
       "      <th>14</th>\n",
       "      <td>49.857780</td>\n",
       "      <td>0.635280</td>\n",
       "      <td>3.649622e+06</td>\n",
       "      <td>3.014598e+06</td>\n",
       "      <td>16388.0</td>\n",
       "      <td>45536.0</td>\n",
       "      <td>139890.0</td>\n",
       "      <td>2057556.0</td>\n",
       "      <td>Paluel</td>\n",
       "    </tr>\n",
       "  </tbody>\n",
       "</table>\n",
       "</div>"
      ],
      "text/plain": [
       "    latitudes  longitudes             x             y  popCentrale_10  \\\n",
       "3   49.415830    6.218060  4.046662e+06  2.929604e+06         92989.0   \n",
       "16  45.404440    4.755280  3.910147e+06  2.491363e+06         67341.0   \n",
       "12  51.014440    2.135000  3.770284e+06  3.130005e+06         39517.0   \n",
       "9   47.903108    7.563036  4.138736e+06  2.757394e+06         50346.0   \n",
       "2   45.798330    5.270830  3.953121e+06  2.532309e+06         42646.0   \n",
       "7   44.633060    4.756670  3.904536e+06  2.405940e+06         52694.0   \n",
       "18  44.335698    4.722490  3.899621e+06  2.373216e+06         57667.0   \n",
       "15  49.976110    1.211940  3.692281e+06  3.022563e+06         24240.0   \n",
       "4   47.230600    0.170280  3.578537e+06  2.729031e+06         29505.0   \n",
       "11  44.106670    0.845280  3.588500e+06  2.377804e+06         18419.0   \n",
       "17  47.723982    1.583490  3.690745e+06  2.770401e+06         28952.0   \n",
       "5   50.090000    4.790560  3.948525e+06  3.010752e+06         22972.0   \n",
       "13  48.515280    3.517780  3.842616e+06  2.843466e+06         17079.0   \n",
       "1   45.256110   -0.690830  3.483758e+06  2.520596e+06         15581.0   \n",
       "8   47.733060    2.516670  3.760433e+06  2.763887e+06         17727.0   \n",
       "10  49.536390   -1.881670  3.465120e+06  3.005365e+06         11900.0   \n",
       "0   47.509720    2.875000  3.784859e+06  2.736510e+06         12736.0   \n",
       "6   46.456670    0.652800  3.604317e+06  2.638887e+06         11950.0   \n",
       "14  49.857780    0.635280  3.649622e+06  3.014598e+06         16388.0   \n",
       "\n",
       "    popCentrale_20  popCentrale_30  popCentrale_100          nom  \n",
       "3         388704.0        813932.0        4426623.0     Cattenom  \n",
       "16        264668.0        656938.0        5154819.0  Saint-Alban  \n",
       "12        252925.0        424200.0        5247974.0   Gravelines  \n",
       "9         241690.0        962487.0        7442318.0   Fessenheim  \n",
       "2         189795.0        705931.0        6137194.0        Bugey  \n",
       "7         139678.0        261372.0        3195321.0        Cruas  \n",
       "18        129654.0        307186.0        2695950.0    Tricastin  \n",
       "15        103360.0        169571.0        2562167.0        Penly  \n",
       "4          86334.0        171913.0        2719971.0     Chinon-B  \n",
       "11         80524.0        189483.0        2358423.0      Golfech  \n",
       "17         71745.0        278588.0        2350184.0  St. Laurent  \n",
       "5          70071.0        182047.0        6590937.0      Chooz-B  \n",
       "13         69911.0        123696.0        9832986.0       Nogent  \n",
       "1          67348.0        148757.0        2276468.0      Blayais  \n",
       "8          61923.0        125007.0        2538767.0    Dampierre  \n",
       "10         58924.0        150973.0         530396.0  Flamanville  \n",
       "0          50815.0         97251.0        1738957.0   Belleville  \n",
       "6          50061.0        206764.0        1798093.0       Civaux  \n",
       "14         45536.0        139890.0        2057556.0       Paluel  "
      ]
     },
     "execution_count": 60,
     "metadata": {},
     "output_type": "execute_result"
    }
   ],
   "source": [
    "df_centrales.sort_values('popCentrale_20', ascending=False)"
   ]
  },
  {
   "cell_type": "code",
   "execution_count": null,
   "metadata": {
    "collapsed": true
   },
   "outputs": [],
   "source": []
  }
 ],
 "metadata": {
  "kernelspec": {
   "display_name": "Python 3",
   "language": "python",
   "name": "python3"
  },
  "language_info": {
   "codemirror_mode": {
    "name": "ipython",
    "version": 3
   },
   "file_extension": ".py",
   "mimetype": "text/x-python",
   "name": "python",
   "nbconvert_exporter": "python",
   "pygments_lexer": "ipython3",
   "version": "3.5.1"
  }
 },
 "nbformat": 4,
 "nbformat_minor": 0
}
