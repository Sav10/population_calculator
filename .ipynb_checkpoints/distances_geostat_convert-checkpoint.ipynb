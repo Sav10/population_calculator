{
 "cells": [
  {
   "cell_type": "code",
   "execution_count": 1,
   "metadata": {
    "collapsed": false
   },
   "outputs": [],
   "source": [
    "from math import sqrt\n",
    "import fiona\n",
    "import pyproj\n",
    "import numpy as np\n",
    "import pandas as pd"
   ]
  },
  {
   "cell_type": "code",
   "execution_count": 2,
   "metadata": {
    "collapsed": true
   },
   "outputs": [],
   "source": [
    "import tarfile"
   ]
  },
  {
   "cell_type": "markdown",
   "metadata": {},
   "source": [
    "### Extraction de l'archive tar avec toutes les grids (déjà traité)"
   ]
  },
  {
   "cell_type": "code",
   "execution_count": 11,
   "metadata": {
    "collapsed": true
   },
   "outputs": [],
   "source": [
    "with tarfile.open(\"data/grids1km_pop_lambert.pkl.tar.gz\") as tar:\n",
    "    tar.extractall(path=\"data/\")"
   ]
  },
  {
   "cell_type": "code",
   "execution_count": 12,
   "metadata": {
    "collapsed": true
   },
   "outputs": [],
   "source": [
    "longitudes=[2.875,-0.69083,5.27083,6.21806,0.17028,4.79056,0.6528,4.75667,2.51667,7.563036,-1.88167,0.84528,2.135,3.51778,0.63528,1.21194,4.75528,1.58349,4.72249]\n",
    "latitudes=[47.50972,45.25611,45.79833,49.41583,47.2306,50.09,46.45667,44.63306,47.73306,47.903108,49.53639,44.10667,51.01444,48.51528,49.85778,49.97611,45.40444,47.723982,44.335698]\n",
    "nomsCentrales=['Belleville','Blayais','Bugey','Cattenom','Chinon-B','Chooz-B','Civaux','Cruas','Dampierre','Fessenheim','Flamanville','Golfech','Gravelines','Nogent','Paluel','Penly','Saint-Alban','St. Laurent','Tricastin']"
   ]
  },
  {
   "cell_type": "code",
   "execution_count": 18,
   "metadata": {
    "collapsed": false
   },
   "outputs": [],
   "source": [
    "df_centrales = pd.DataFrame({'longitude':longitudes, 'latitude':latitudes, 'nomsCentrales':nomsCentrales})"
   ]
  },
  {
   "cell_type": "code",
   "execution_count": 19,
   "metadata": {
    "collapsed": false
   },
   "outputs": [
    {
     "data": {
      "text/html": [
       "<div>\n",
       "<table border=\"1\" class=\"dataframe\">\n",
       "  <thead>\n",
       "    <tr style=\"text-align: right;\">\n",
       "      <th></th>\n",
       "      <th>latitude</th>\n",
       "      <th>longitude</th>\n",
       "      <th>nomsCentrales</th>\n",
       "    </tr>\n",
       "  </thead>\n",
       "  <tbody>\n",
       "    <tr>\n",
       "      <th>0</th>\n",
       "      <td>47.50972</td>\n",
       "      <td>2.87500</td>\n",
       "      <td>Belleville</td>\n",
       "    </tr>\n",
       "    <tr>\n",
       "      <th>1</th>\n",
       "      <td>45.25611</td>\n",
       "      <td>-0.69083</td>\n",
       "      <td>Blayais</td>\n",
       "    </tr>\n",
       "    <tr>\n",
       "      <th>2</th>\n",
       "      <td>45.79833</td>\n",
       "      <td>5.27083</td>\n",
       "      <td>Bugey</td>\n",
       "    </tr>\n",
       "    <tr>\n",
       "      <th>3</th>\n",
       "      <td>49.41583</td>\n",
       "      <td>6.21806</td>\n",
       "      <td>Cattenom</td>\n",
       "    </tr>\n",
       "    <tr>\n",
       "      <th>4</th>\n",
       "      <td>47.23060</td>\n",
       "      <td>0.17028</td>\n",
       "      <td>Chinon-B</td>\n",
       "    </tr>\n",
       "  </tbody>\n",
       "</table>\n",
       "</div>"
      ],
      "text/plain": [
       "   latitude  longitude nomsCentrales\n",
       "0  47.50972    2.87500    Belleville\n",
       "1  45.25611   -0.69083       Blayais\n",
       "2  45.79833    5.27083         Bugey\n",
       "3  49.41583    6.21806      Cattenom\n",
       "4  47.23060    0.17028      Chinon-B"
      ]
     },
     "execution_count": 19,
     "metadata": {},
     "output_type": "execute_result"
    }
   ],
   "source": [
    "df_centrales.head()"
   ]
  },
  {
   "cell_type": "code",
   "execution_count": 14,
   "metadata": {
    "collapsed": true
   },
   "outputs": [],
   "source": [
    "lambert=pyproj.Proj(\"+init=EPSG:3035\")\n",
    "df_merged = pd.read_pickle('data/grids1km_pop_lambert.pkl')\n",
    "\n",
    "def return_pop(row, km):\n",
    "    mask = ((df_merged.x+500-row.x)**2\n",
    "            +(df_merged.y+500-row.y)**2).apply(sqrt)< (1000*km)\n",
    "    return int(df_merged[mask].TOT_P.sum())\n",
    "\n",
    "#Pour une recherche par dataframe, avec une colonne latitude et une colonne longitude\n",
    "def search_pop(df, distance, latitude = 'latitude', longitude = 'longitude'):\n",
    "    if 'x' not in df.columns and 'y' not in df.columns:\n",
    "        df[['x', 'y']] = df[[longitude, latitude]].apply(lambda row: list(lambert(row[0],row[1])), axis=1)\n",
    "    df['pop_' + str(distance) + '_km'] = df_centrales.apply(return_pop, args=(distance,), axis=1)\n",
    "    return df\n",
    "\n",
    "# Pour une recherche individuelle, en fournissant latitude et longitude\n",
    "def latlong_to_pop(latitude, longitude, distance):\n",
    "    x,y= lambert(longitude,latitude)\n",
    "    mask = ((df_merged.x+500-x)**2\n",
    "            +(df_merged.y+500-y)**2).apply(sqrt)< (1000*distance)\n",
    "    return int(df_merged[mask].TOT_P.sum())"
   ]
  },
  {
   "cell_type": "markdown",
   "metadata": {},
   "source": [
    "### Exemple : recherche individuelle : Paris"
   ]
  },
  {
   "cell_type": "code",
   "execution_count": 15,
   "metadata": {
    "collapsed": false
   },
   "outputs": [
    {
     "data": {
      "text/plain": [
       "4539694"
      ]
     },
     "execution_count": 15,
     "metadata": {},
     "output_type": "execute_result"
    }
   ],
   "source": [
    "latlong_to_pop(48.8534100, 2.3488000, 10)"
   ]
  },
  {
   "cell_type": "markdown",
   "metadata": {},
   "source": [
    "### Exemple : recherche par dataframe : dataframe df_centrales"
   ]
  },
  {
   "cell_type": "code",
   "execution_count": 20,
   "metadata": {
    "collapsed": false
   },
   "outputs": [
    {
     "data": {
      "text/html": [
       "<div>\n",
       "<table border=\"1\" class=\"dataframe\">\n",
       "  <thead>\n",
       "    <tr style=\"text-align: right;\">\n",
       "      <th></th>\n",
       "      <th>latitude</th>\n",
       "      <th>longitude</th>\n",
       "      <th>nomsCentrales</th>\n",
       "      <th>x</th>\n",
       "      <th>y</th>\n",
       "      <th>pop_10_km</th>\n",
       "      <th>pop_20_km</th>\n",
       "      <th>pop_30_km</th>\n",
       "      <th>pop_100_km</th>\n",
       "    </tr>\n",
       "  </thead>\n",
       "  <tbody>\n",
       "    <tr>\n",
       "      <th>0</th>\n",
       "      <td>47.509720</td>\n",
       "      <td>2.875000</td>\n",
       "      <td>Belleville</td>\n",
       "      <td>3.784859e+06</td>\n",
       "      <td>2.736510e+06</td>\n",
       "      <td>12736</td>\n",
       "      <td>50815</td>\n",
       "      <td>97251</td>\n",
       "      <td>1738957</td>\n",
       "    </tr>\n",
       "    <tr>\n",
       "      <th>1</th>\n",
       "      <td>45.256110</td>\n",
       "      <td>-0.690830</td>\n",
       "      <td>Blayais</td>\n",
       "      <td>3.483758e+06</td>\n",
       "      <td>2.520596e+06</td>\n",
       "      <td>15581</td>\n",
       "      <td>67348</td>\n",
       "      <td>148757</td>\n",
       "      <td>2276468</td>\n",
       "    </tr>\n",
       "    <tr>\n",
       "      <th>2</th>\n",
       "      <td>45.798330</td>\n",
       "      <td>5.270830</td>\n",
       "      <td>Bugey</td>\n",
       "      <td>3.953121e+06</td>\n",
       "      <td>2.532309e+06</td>\n",
       "      <td>42646</td>\n",
       "      <td>189795</td>\n",
       "      <td>705931</td>\n",
       "      <td>6137194</td>\n",
       "    </tr>\n",
       "    <tr>\n",
       "      <th>3</th>\n",
       "      <td>49.415830</td>\n",
       "      <td>6.218060</td>\n",
       "      <td>Cattenom</td>\n",
       "      <td>4.046662e+06</td>\n",
       "      <td>2.929604e+06</td>\n",
       "      <td>92989</td>\n",
       "      <td>388704</td>\n",
       "      <td>813932</td>\n",
       "      <td>4426623</td>\n",
       "    </tr>\n",
       "    <tr>\n",
       "      <th>4</th>\n",
       "      <td>47.230600</td>\n",
       "      <td>0.170280</td>\n",
       "      <td>Chinon-B</td>\n",
       "      <td>3.578537e+06</td>\n",
       "      <td>2.729031e+06</td>\n",
       "      <td>29505</td>\n",
       "      <td>86334</td>\n",
       "      <td>171913</td>\n",
       "      <td>2719971</td>\n",
       "    </tr>\n",
       "    <tr>\n",
       "      <th>5</th>\n",
       "      <td>50.090000</td>\n",
       "      <td>4.790560</td>\n",
       "      <td>Chooz-B</td>\n",
       "      <td>3.948525e+06</td>\n",
       "      <td>3.010752e+06</td>\n",
       "      <td>22972</td>\n",
       "      <td>70071</td>\n",
       "      <td>182047</td>\n",
       "      <td>6590937</td>\n",
       "    </tr>\n",
       "    <tr>\n",
       "      <th>6</th>\n",
       "      <td>46.456670</td>\n",
       "      <td>0.652800</td>\n",
       "      <td>Civaux</td>\n",
       "      <td>3.604317e+06</td>\n",
       "      <td>2.638887e+06</td>\n",
       "      <td>11950</td>\n",
       "      <td>50061</td>\n",
       "      <td>206764</td>\n",
       "      <td>1798093</td>\n",
       "    </tr>\n",
       "    <tr>\n",
       "      <th>7</th>\n",
       "      <td>44.633060</td>\n",
       "      <td>4.756670</td>\n",
       "      <td>Cruas</td>\n",
       "      <td>3.904536e+06</td>\n",
       "      <td>2.405940e+06</td>\n",
       "      <td>52694</td>\n",
       "      <td>139678</td>\n",
       "      <td>261372</td>\n",
       "      <td>3195321</td>\n",
       "    </tr>\n",
       "    <tr>\n",
       "      <th>8</th>\n",
       "      <td>47.733060</td>\n",
       "      <td>2.516670</td>\n",
       "      <td>Dampierre</td>\n",
       "      <td>3.760433e+06</td>\n",
       "      <td>2.763887e+06</td>\n",
       "      <td>17727</td>\n",
       "      <td>61923</td>\n",
       "      <td>125007</td>\n",
       "      <td>2538767</td>\n",
       "    </tr>\n",
       "    <tr>\n",
       "      <th>9</th>\n",
       "      <td>47.903108</td>\n",
       "      <td>7.563036</td>\n",
       "      <td>Fessenheim</td>\n",
       "      <td>4.138736e+06</td>\n",
       "      <td>2.757394e+06</td>\n",
       "      <td>50346</td>\n",
       "      <td>241690</td>\n",
       "      <td>962487</td>\n",
       "      <td>7442318</td>\n",
       "    </tr>\n",
       "    <tr>\n",
       "      <th>10</th>\n",
       "      <td>49.536390</td>\n",
       "      <td>-1.881670</td>\n",
       "      <td>Flamanville</td>\n",
       "      <td>3.465120e+06</td>\n",
       "      <td>3.005365e+06</td>\n",
       "      <td>11900</td>\n",
       "      <td>58924</td>\n",
       "      <td>150973</td>\n",
       "      <td>530396</td>\n",
       "    </tr>\n",
       "    <tr>\n",
       "      <th>11</th>\n",
       "      <td>44.106670</td>\n",
       "      <td>0.845280</td>\n",
       "      <td>Golfech</td>\n",
       "      <td>3.588500e+06</td>\n",
       "      <td>2.377804e+06</td>\n",
       "      <td>18419</td>\n",
       "      <td>80524</td>\n",
       "      <td>189483</td>\n",
       "      <td>2358423</td>\n",
       "    </tr>\n",
       "    <tr>\n",
       "      <th>12</th>\n",
       "      <td>51.014440</td>\n",
       "      <td>2.135000</td>\n",
       "      <td>Gravelines</td>\n",
       "      <td>3.770284e+06</td>\n",
       "      <td>3.130005e+06</td>\n",
       "      <td>39517</td>\n",
       "      <td>252925</td>\n",
       "      <td>424200</td>\n",
       "      <td>5247974</td>\n",
       "    </tr>\n",
       "    <tr>\n",
       "      <th>13</th>\n",
       "      <td>48.515280</td>\n",
       "      <td>3.517780</td>\n",
       "      <td>Nogent</td>\n",
       "      <td>3.842616e+06</td>\n",
       "      <td>2.843466e+06</td>\n",
       "      <td>17079</td>\n",
       "      <td>69911</td>\n",
       "      <td>123696</td>\n",
       "      <td>9832986</td>\n",
       "    </tr>\n",
       "    <tr>\n",
       "      <th>14</th>\n",
       "      <td>49.857780</td>\n",
       "      <td>0.635280</td>\n",
       "      <td>Paluel</td>\n",
       "      <td>3.649622e+06</td>\n",
       "      <td>3.014598e+06</td>\n",
       "      <td>16388</td>\n",
       "      <td>45536</td>\n",
       "      <td>139890</td>\n",
       "      <td>2057556</td>\n",
       "    </tr>\n",
       "    <tr>\n",
       "      <th>15</th>\n",
       "      <td>49.976110</td>\n",
       "      <td>1.211940</td>\n",
       "      <td>Penly</td>\n",
       "      <td>3.692281e+06</td>\n",
       "      <td>3.022563e+06</td>\n",
       "      <td>24240</td>\n",
       "      <td>103360</td>\n",
       "      <td>169571</td>\n",
       "      <td>2562167</td>\n",
       "    </tr>\n",
       "    <tr>\n",
       "      <th>16</th>\n",
       "      <td>45.404440</td>\n",
       "      <td>4.755280</td>\n",
       "      <td>Saint-Alban</td>\n",
       "      <td>3.910147e+06</td>\n",
       "      <td>2.491363e+06</td>\n",
       "      <td>67341</td>\n",
       "      <td>264668</td>\n",
       "      <td>656938</td>\n",
       "      <td>5154819</td>\n",
       "    </tr>\n",
       "    <tr>\n",
       "      <th>17</th>\n",
       "      <td>47.723982</td>\n",
       "      <td>1.583490</td>\n",
       "      <td>St. Laurent</td>\n",
       "      <td>3.690745e+06</td>\n",
       "      <td>2.770401e+06</td>\n",
       "      <td>28952</td>\n",
       "      <td>71745</td>\n",
       "      <td>278588</td>\n",
       "      <td>2350184</td>\n",
       "    </tr>\n",
       "    <tr>\n",
       "      <th>18</th>\n",
       "      <td>44.335698</td>\n",
       "      <td>4.722490</td>\n",
       "      <td>Tricastin</td>\n",
       "      <td>3.899621e+06</td>\n",
       "      <td>2.373216e+06</td>\n",
       "      <td>57667</td>\n",
       "      <td>129654</td>\n",
       "      <td>307186</td>\n",
       "      <td>2695950</td>\n",
       "    </tr>\n",
       "  </tbody>\n",
       "</table>\n",
       "</div>"
      ],
      "text/plain": [
       "     latitude  longitude nomsCentrales             x             y  pop_10_km  \\\n",
       "0   47.509720   2.875000    Belleville  3.784859e+06  2.736510e+06      12736   \n",
       "1   45.256110  -0.690830       Blayais  3.483758e+06  2.520596e+06      15581   \n",
       "2   45.798330   5.270830         Bugey  3.953121e+06  2.532309e+06      42646   \n",
       "3   49.415830   6.218060      Cattenom  4.046662e+06  2.929604e+06      92989   \n",
       "4   47.230600   0.170280      Chinon-B  3.578537e+06  2.729031e+06      29505   \n",
       "5   50.090000   4.790560       Chooz-B  3.948525e+06  3.010752e+06      22972   \n",
       "6   46.456670   0.652800        Civaux  3.604317e+06  2.638887e+06      11950   \n",
       "7   44.633060   4.756670         Cruas  3.904536e+06  2.405940e+06      52694   \n",
       "8   47.733060   2.516670     Dampierre  3.760433e+06  2.763887e+06      17727   \n",
       "9   47.903108   7.563036    Fessenheim  4.138736e+06  2.757394e+06      50346   \n",
       "10  49.536390  -1.881670   Flamanville  3.465120e+06  3.005365e+06      11900   \n",
       "11  44.106670   0.845280       Golfech  3.588500e+06  2.377804e+06      18419   \n",
       "12  51.014440   2.135000    Gravelines  3.770284e+06  3.130005e+06      39517   \n",
       "13  48.515280   3.517780        Nogent  3.842616e+06  2.843466e+06      17079   \n",
       "14  49.857780   0.635280        Paluel  3.649622e+06  3.014598e+06      16388   \n",
       "15  49.976110   1.211940         Penly  3.692281e+06  3.022563e+06      24240   \n",
       "16  45.404440   4.755280   Saint-Alban  3.910147e+06  2.491363e+06      67341   \n",
       "17  47.723982   1.583490   St. Laurent  3.690745e+06  2.770401e+06      28952   \n",
       "18  44.335698   4.722490     Tricastin  3.899621e+06  2.373216e+06      57667   \n",
       "\n",
       "    pop_20_km  pop_30_km  pop_100_km  \n",
       "0       50815      97251     1738957  \n",
       "1       67348     148757     2276468  \n",
       "2      189795     705931     6137194  \n",
       "3      388704     813932     4426623  \n",
       "4       86334     171913     2719971  \n",
       "5       70071     182047     6590937  \n",
       "6       50061     206764     1798093  \n",
       "7      139678     261372     3195321  \n",
       "8       61923     125007     2538767  \n",
       "9      241690     962487     7442318  \n",
       "10      58924     150973      530396  \n",
       "11      80524     189483     2358423  \n",
       "12     252925     424200     5247974  \n",
       "13      69911     123696     9832986  \n",
       "14      45536     139890     2057556  \n",
       "15     103360     169571     2562167  \n",
       "16     264668     656938     5154819  \n",
       "17      71745     278588     2350184  \n",
       "18     129654     307186     2695950  "
      ]
     },
     "execution_count": 20,
     "metadata": {},
     "output_type": "execute_result"
    }
   ],
   "source": [
    "search_pop(df_centrales, 10)\n",
    "search_pop(df_centrales, 20)\n",
    "search_pop(df_centrales, 30)\n",
    "search_pop(df_centrales, 100)"
   ]
  },
  {
   "cell_type": "code",
   "execution_count": null,
   "metadata": {
    "collapsed": true
   },
   "outputs": [],
   "source": []
  }
 ],
 "metadata": {
  "kernelspec": {
   "display_name": "Python 3",
   "language": "python",
   "name": "python3"
  },
  "language_info": {
   "codemirror_mode": {
    "name": "ipython",
    "version": 3
   },
   "file_extension": ".py",
   "mimetype": "text/x-python",
   "name": "python",
   "nbconvert_exporter": "python",
   "pygments_lexer": "ipython3",
   "version": "3.5.1"
  }
 },
 "nbformat": 4,
 "nbformat_minor": 0
}
